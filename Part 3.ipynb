{
 "cells": [
  {
   "cell_type": "code",
   "execution_count": 2,
   "metadata": {},
   "outputs": [],
   "source": [
    "import cv2\n",
    "import numpy as np\n",
    "import time\n",
    "\n",
    "def detect_motion(video_source, output_text_file):\n",
    "    cap = cv2.VideoCapture(video_source)\n",
    "\n",
    "    if not cap.isOpened():\n",
    "        print(\"Error opening video stream or file\")\n",
    "        return\n",
    "\n",
    "    # Open a text file for recording motion detection \n",
    "    with open(output_text_file, 'w') as file:\n",
    "        file.write(\"Motion Detection Events:\\n\")\n",
    "\n",
    "        # Read the first frame\n",
    "        ret, prev_frame = cap.read()\n",
    "        prev_gray = cv2.cvtColor(prev_frame, cv2.COLOR_BGR2GRAY)\n",
    "        frame_count = 0\n",
    "\n",
    "        while True:\n",
    "            ret, frame = cap.read()\n",
    "            if not ret:\n",
    "                break\n",
    "            frame_count += 1\n",
    "            gray = cv2.cvtColor(frame, cv2.COLOR_BGR2GRAY)\n",
    "\n",
    "            # Calculation of optical flow\n",
    "            flow = cv2.calcOpticalFlowFarneback(prev_gray, gray, None, 0.5, 3, 15, 3, 5, 1.2, 0)\n",
    "            magnitude = np.sqrt(flow[:,:,0]**2 + flow[:,:,1]**2)\n",
    "\n",
    "            # Threshold\n",
    "            motion_threshold = 2.0\n",
    "\n",
    "            if np.max(magnitude) > motion_threshold:\n",
    "                # If the Motion is detected scene will be recorded in the text file\n",
    "                timestamp = time.time()\n",
    "                file.write(f\"Motion detected at frame {frame_count}, timestamp: {timestamp}\\n\")\n",
    "\n",
    "            prev_gray = gray\n",
    "\n",
    "        \n",
    "        file.write(\"End of Motion Detection Events\\n\")\n",
    "\n",
    "    cap.release()\n",
    "    cv2.destroyAllWindows()\n",
    "\n",
    "if __name__ == \"__main__\":\n",
    "    video_source = 'naruto.mp4'  \n",
    "    # Output text file\n",
    "    output_text_file = 'motion_detection_events.txt'   \n",
    "    detect_motion(video_source, output_text_file)\n"
   ]
  }
 ],
 "metadata": {
  "kernelspec": {
   "display_name": "sliit",
   "language": "python",
   "name": "python3"
  },
  "language_info": {
   "codemirror_mode": {
    "name": "ipython",
    "version": 3
   },
   "file_extension": ".py",
   "mimetype": "text/x-python",
   "name": "python",
   "nbconvert_exporter": "python",
   "pygments_lexer": "ipython3",
   "version": "3.10.13"
  }
 },
 "nbformat": 4,
 "nbformat_minor": 2
}
